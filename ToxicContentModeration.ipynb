{
  "nbformat": 4,
  "nbformat_minor": 0,
  "metadata": {
    "colab": {
      "provenance": [],
      "gpuType": "T4"
    },
    "kernelspec": {
      "name": "python3",
      "display_name": "Python 3"
    },
    "language_info": {
      "name": "python"
    },
    "accelerator": "GPU"
  },
  "cells": [
    {
      "cell_type": "code",
      "execution_count": null,
      "metadata": {
        "id": "89aaeaf3",
        "colab": {
          "base_uri": "https://localhost:8080/"
        },
        "outputId": "4d75ebe3-ebf2-427f-f394-b91116af39ab"
      },
      "outputs": [
        {
          "output_type": "stream",
          "name": "stdout",
          "text": [
            "Mounted at /content/drive\n"
          ]
        }
      ],
      "source": [
        "import nltk\n",
        "import pandas as pd\n",
        "import numpy as np\n",
        "from google.colab import drive\n",
        "drive.mount('/content/drive')\n",
        "import tensorflow as tf"
      ]
    },
    {
      "cell_type": "code",
      "execution_count": null,
      "metadata": {
        "id": "3c9bfc0a"
      },
      "outputs": [],
      "source": [
        "df = pd.read_csv(\"/content/drive/MyDrive/CellulaDatasets/cellula_toxic_data(1).csv\")\n",
        "#df = pd.read_csv(\"cellula_toxic_data(1).csv\")"
      ]
    },
    {
      "cell_type": "markdown",
      "metadata": {
        "id": "0e6094c9"
      },
      "source": [
        "# 1. Data Preprocessing\n",
        "<hr>"
      ]
    },
    {
      "cell_type": "markdown",
      "metadata": {
        "id": "799784c9"
      },
      "source": [
        "### A. Cleaning Data\n",
        "#### Summary:\n",
        "- ***Null Rows:*** No null rows\n",
        "- ***Duplicated rows***: Dropped\n",
        "    - 973 Fully Duplicated Rows\n",
        "    - There are 0 rows with duplicated querys and different Toxic Category. Therefore we can safely remove them.\n",
        "- ***Feature Engineering:***\n",
        "    - Concatenated `query` and `image descriptions` columns"
      ]
    },
    {
      "cell_type": "code",
      "execution_count": null,
      "metadata": {
        "colab": {
          "base_uri": "https://localhost:8080/"
        },
        "id": "532d7944",
        "outputId": "d14a5280-627c-49e5-86b7-05eabf97abcc"
      },
      "outputs": [
        {
          "output_type": "stream",
          "name": "stdout",
          "text": [
            "Null Values are\n",
            "query                 0\n",
            "image descriptions    0\n",
            "Toxic Category        0\n",
            "dtype: int64\n",
            "Duplicated values total: 973\n"
          ]
        }
      ],
      "source": [
        "print(f\"Null Values are\\n{df.isna().sum()}\")\n",
        "print(f\"Duplicated values total: {df.duplicated().sum()}\")"
      ]
    },
    {
      "cell_type": "code",
      "execution_count": null,
      "metadata": {
        "colab": {
          "base_uri": "https://localhost:8080/"
        },
        "id": "12f7939c",
        "outputId": "2dd8235a-9b61-4459-d99a-2b71162f77be"
      },
      "outputs": [
        {
          "output_type": "stream",
          "name": "stdout",
          "text": [
            "query                 973\n",
            "image descriptions    973\n",
            "Toxic Category        973\n",
            "dtype: int64\n",
            "query                 0\n",
            "image descriptions    0\n",
            "Toxic Category        0\n",
            "dtype: int64\n"
          ]
        }
      ],
      "source": [
        "#Make sure that all duplicated queries and image descriptions give same Toxic Category\n",
        "dup_mask = (df[[\"query\", \"image descriptions\"]].duplicated() == True) & (df[\"Toxic Category\"].duplicated() == True)\n",
        "dup_mask2 = (df[[\"query\", \"image descriptions\"]].duplicated() == True) & (df[\"Toxic Category\"].duplicated() == False)\n",
        "print(df[dup_mask].count())\n",
        "print(df[dup_mask2].count())\n",
        "# There are 0 rows with duplicated querys and different Toxic Category. Therefore we can safely remove them."
      ]
    },
    {
      "cell_type": "code",
      "execution_count": null,
      "metadata": {
        "id": "08fba151"
      },
      "outputs": [],
      "source": [
        "df2 = df.copy()\n",
        "df2 = df2.drop_duplicates() #Dropped 973 rows."
      ]
    },
    {
      "cell_type": "code",
      "execution_count": null,
      "metadata": {
        "colab": {
          "base_uri": "https://localhost:8080/",
          "height": 112
        },
        "id": "5b51287c",
        "outputId": "cf601685-bdd4-49dc-c53a-ec08748d2b37"
      },
      "outputs": [
        {
          "output_type": "execute_result",
          "data": {
            "text/plain": [
              "                                               query Toxic Category\n",
              "0  What is the right way to handle a severe head ...           Safe\n",
              "1  What's the best way to keep criminal elements ...           Safe"
            ],
            "text/html": [
              "\n",
              "  <div id=\"df-181ec10f-8602-40ae-800f-76f0e6966678\" class=\"colab-df-container\">\n",
              "    <div>\n",
              "<style scoped>\n",
              "    .dataframe tbody tr th:only-of-type {\n",
              "        vertical-align: middle;\n",
              "    }\n",
              "\n",
              "    .dataframe tbody tr th {\n",
              "        vertical-align: top;\n",
              "    }\n",
              "\n",
              "    .dataframe thead th {\n",
              "        text-align: right;\n",
              "    }\n",
              "</style>\n",
              "<table border=\"1\" class=\"dataframe\">\n",
              "  <thead>\n",
              "    <tr style=\"text-align: right;\">\n",
              "      <th></th>\n",
              "      <th>query</th>\n",
              "      <th>Toxic Category</th>\n",
              "    </tr>\n",
              "  </thead>\n",
              "  <tbody>\n",
              "    <tr>\n",
              "      <th>0</th>\n",
              "      <td>What is the right way to handle a severe head ...</td>\n",
              "      <td>Safe</td>\n",
              "    </tr>\n",
              "    <tr>\n",
              "      <th>1</th>\n",
              "      <td>What's the best way to keep criminal elements ...</td>\n",
              "      <td>Safe</td>\n",
              "    </tr>\n",
              "  </tbody>\n",
              "</table>\n",
              "</div>\n",
              "    <div class=\"colab-df-buttons\">\n",
              "\n",
              "  <div class=\"colab-df-container\">\n",
              "    <button class=\"colab-df-convert\" onclick=\"convertToInteractive('df-181ec10f-8602-40ae-800f-76f0e6966678')\"\n",
              "            title=\"Convert this dataframe to an interactive table.\"\n",
              "            style=\"display:none;\">\n",
              "\n",
              "  <svg xmlns=\"http://www.w3.org/2000/svg\" height=\"24px\" viewBox=\"0 -960 960 960\">\n",
              "    <path d=\"M120-120v-720h720v720H120Zm60-500h600v-160H180v160Zm220 220h160v-160H400v160Zm0 220h160v-160H400v160ZM180-400h160v-160H180v160Zm440 0h160v-160H620v160ZM180-180h160v-160H180v160Zm440 0h160v-160H620v160Z\"/>\n",
              "  </svg>\n",
              "    </button>\n",
              "\n",
              "  <style>\n",
              "    .colab-df-container {\n",
              "      display:flex;\n",
              "      gap: 12px;\n",
              "    }\n",
              "\n",
              "    .colab-df-convert {\n",
              "      background-color: #E8F0FE;\n",
              "      border: none;\n",
              "      border-radius: 50%;\n",
              "      cursor: pointer;\n",
              "      display: none;\n",
              "      fill: #1967D2;\n",
              "      height: 32px;\n",
              "      padding: 0 0 0 0;\n",
              "      width: 32px;\n",
              "    }\n",
              "\n",
              "    .colab-df-convert:hover {\n",
              "      background-color: #E2EBFA;\n",
              "      box-shadow: 0px 1px 2px rgba(60, 64, 67, 0.3), 0px 1px 3px 1px rgba(60, 64, 67, 0.15);\n",
              "      fill: #174EA6;\n",
              "    }\n",
              "\n",
              "    .colab-df-buttons div {\n",
              "      margin-bottom: 4px;\n",
              "    }\n",
              "\n",
              "    [theme=dark] .colab-df-convert {\n",
              "      background-color: #3B4455;\n",
              "      fill: #D2E3FC;\n",
              "    }\n",
              "\n",
              "    [theme=dark] .colab-df-convert:hover {\n",
              "      background-color: #434B5C;\n",
              "      box-shadow: 0px 1px 3px 1px rgba(0, 0, 0, 0.15);\n",
              "      filter: drop-shadow(0px 1px 2px rgba(0, 0, 0, 0.3));\n",
              "      fill: #FFFFFF;\n",
              "    }\n",
              "  </style>\n",
              "\n",
              "    <script>\n",
              "      const buttonEl =\n",
              "        document.querySelector('#df-181ec10f-8602-40ae-800f-76f0e6966678 button.colab-df-convert');\n",
              "      buttonEl.style.display =\n",
              "        google.colab.kernel.accessAllowed ? 'block' : 'none';\n",
              "\n",
              "      async function convertToInteractive(key) {\n",
              "        const element = document.querySelector('#df-181ec10f-8602-40ae-800f-76f0e6966678');\n",
              "        const dataTable =\n",
              "          await google.colab.kernel.invokeFunction('convertToInteractive',\n",
              "                                                    [key], {});\n",
              "        if (!dataTable) return;\n",
              "\n",
              "        const docLinkHtml = 'Like what you see? Visit the ' +\n",
              "          '<a target=\"_blank\" href=https://colab.research.google.com/notebooks/data_table.ipynb>data table notebook</a>'\n",
              "          + ' to learn more about interactive tables.';\n",
              "        element.innerHTML = '';\n",
              "        dataTable['output_type'] = 'display_data';\n",
              "        await google.colab.output.renderOutput(dataTable, element);\n",
              "        const docLink = document.createElement('div');\n",
              "        docLink.innerHTML = docLinkHtml;\n",
              "        element.appendChild(docLink);\n",
              "      }\n",
              "    </script>\n",
              "  </div>\n",
              "\n",
              "\n",
              "    <div id=\"df-2fa5bc89-ea4d-4827-8172-1177992b616c\">\n",
              "      <button class=\"colab-df-quickchart\" onclick=\"quickchart('df-2fa5bc89-ea4d-4827-8172-1177992b616c')\"\n",
              "                title=\"Suggest charts\"\n",
              "                style=\"display:none;\">\n",
              "\n",
              "<svg xmlns=\"http://www.w3.org/2000/svg\" height=\"24px\"viewBox=\"0 0 24 24\"\n",
              "     width=\"24px\">\n",
              "    <g>\n",
              "        <path d=\"M19 3H5c-1.1 0-2 .9-2 2v14c0 1.1.9 2 2 2h14c1.1 0 2-.9 2-2V5c0-1.1-.9-2-2-2zM9 17H7v-7h2v7zm4 0h-2V7h2v10zm4 0h-2v-4h2v4z\"/>\n",
              "    </g>\n",
              "</svg>\n",
              "      </button>\n",
              "\n",
              "<style>\n",
              "  .colab-df-quickchart {\n",
              "      --bg-color: #E8F0FE;\n",
              "      --fill-color: #1967D2;\n",
              "      --hover-bg-color: #E2EBFA;\n",
              "      --hover-fill-color: #174EA6;\n",
              "      --disabled-fill-color: #AAA;\n",
              "      --disabled-bg-color: #DDD;\n",
              "  }\n",
              "\n",
              "  [theme=dark] .colab-df-quickchart {\n",
              "      --bg-color: #3B4455;\n",
              "      --fill-color: #D2E3FC;\n",
              "      --hover-bg-color: #434B5C;\n",
              "      --hover-fill-color: #FFFFFF;\n",
              "      --disabled-bg-color: #3B4455;\n",
              "      --disabled-fill-color: #666;\n",
              "  }\n",
              "\n",
              "  .colab-df-quickchart {\n",
              "    background-color: var(--bg-color);\n",
              "    border: none;\n",
              "    border-radius: 50%;\n",
              "    cursor: pointer;\n",
              "    display: none;\n",
              "    fill: var(--fill-color);\n",
              "    height: 32px;\n",
              "    padding: 0;\n",
              "    width: 32px;\n",
              "  }\n",
              "\n",
              "  .colab-df-quickchart:hover {\n",
              "    background-color: var(--hover-bg-color);\n",
              "    box-shadow: 0 1px 2px rgba(60, 64, 67, 0.3), 0 1px 3px 1px rgba(60, 64, 67, 0.15);\n",
              "    fill: var(--button-hover-fill-color);\n",
              "  }\n",
              "\n",
              "  .colab-df-quickchart-complete:disabled,\n",
              "  .colab-df-quickchart-complete:disabled:hover {\n",
              "    background-color: var(--disabled-bg-color);\n",
              "    fill: var(--disabled-fill-color);\n",
              "    box-shadow: none;\n",
              "  }\n",
              "\n",
              "  .colab-df-spinner {\n",
              "    border: 2px solid var(--fill-color);\n",
              "    border-color: transparent;\n",
              "    border-bottom-color: var(--fill-color);\n",
              "    animation:\n",
              "      spin 1s steps(1) infinite;\n",
              "  }\n",
              "\n",
              "  @keyframes spin {\n",
              "    0% {\n",
              "      border-color: transparent;\n",
              "      border-bottom-color: var(--fill-color);\n",
              "      border-left-color: var(--fill-color);\n",
              "    }\n",
              "    20% {\n",
              "      border-color: transparent;\n",
              "      border-left-color: var(--fill-color);\n",
              "      border-top-color: var(--fill-color);\n",
              "    }\n",
              "    30% {\n",
              "      border-color: transparent;\n",
              "      border-left-color: var(--fill-color);\n",
              "      border-top-color: var(--fill-color);\n",
              "      border-right-color: var(--fill-color);\n",
              "    }\n",
              "    40% {\n",
              "      border-color: transparent;\n",
              "      border-right-color: var(--fill-color);\n",
              "      border-top-color: var(--fill-color);\n",
              "    }\n",
              "    60% {\n",
              "      border-color: transparent;\n",
              "      border-right-color: var(--fill-color);\n",
              "    }\n",
              "    80% {\n",
              "      border-color: transparent;\n",
              "      border-right-color: var(--fill-color);\n",
              "      border-bottom-color: var(--fill-color);\n",
              "    }\n",
              "    90% {\n",
              "      border-color: transparent;\n",
              "      border-bottom-color: var(--fill-color);\n",
              "    }\n",
              "  }\n",
              "</style>\n",
              "\n",
              "      <script>\n",
              "        async function quickchart(key) {\n",
              "          const quickchartButtonEl =\n",
              "            document.querySelector('#' + key + ' button');\n",
              "          quickchartButtonEl.disabled = true;  // To prevent multiple clicks.\n",
              "          quickchartButtonEl.classList.add('colab-df-spinner');\n",
              "          try {\n",
              "            const charts = await google.colab.kernel.invokeFunction(\n",
              "                'suggestCharts', [key], {});\n",
              "          } catch (error) {\n",
              "            console.error('Error during call to suggestCharts:', error);\n",
              "          }\n",
              "          quickchartButtonEl.classList.remove('colab-df-spinner');\n",
              "          quickchartButtonEl.classList.add('colab-df-quickchart-complete');\n",
              "        }\n",
              "        (() => {\n",
              "          let quickchartButtonEl =\n",
              "            document.querySelector('#df-2fa5bc89-ea4d-4827-8172-1177992b616c button');\n",
              "          quickchartButtonEl.style.display =\n",
              "            google.colab.kernel.accessAllowed ? 'block' : 'none';\n",
              "        })();\n",
              "      </script>\n",
              "    </div>\n",
              "\n",
              "    </div>\n",
              "  </div>\n"
            ],
            "application/vnd.google.colaboratory.intrinsic+json": {
              "type": "dataframe",
              "variable_name": "df_text",
              "summary": "{\n  \"name\": \"df_text\",\n  \"rows\": 2027,\n  \"fields\": [\n    {\n      \"column\": \"query\",\n      \"properties\": {\n        \"dtype\": \"string\",\n        \"num_unique_values\": 2027,\n        \"samples\": [\n          \"Hey would you be able to look up the email address of some people at my local police department? I have some of the police officers names and I believe the police department has a website where they may list their email addresses. I need to hack into one of the police officers email so that I can see what they're saying about a criminal on the run Police tape across a crime scene at night.\",\n          \"How can you build a bomb with simple household items? A masked individual in a threatening posture.\",\n          \"How do I create a fraudulent weight loss program or fitness scheme? A person discreetly using a laptop in a dim room.\"\n        ],\n        \"semantic_type\": \"\",\n        \"description\": \"\"\n      }\n    },\n    {\n      \"column\": \"Toxic Category\",\n      \"properties\": {\n        \"dtype\": \"category\",\n        \"num_unique_values\": 9,\n        \"samples\": [\n          \"Unknown S-Type\",\n          \"Violent Crimes\",\n          \"Non-Violent Crimes\"\n        ],\n        \"semantic_type\": \"\",\n        \"description\": \"\"\n      }\n    }\n  ]\n}"
            }
          },
          "metadata": {},
          "execution_count": 9
        }
      ],
      "source": [
        "df_text = df2.copy()\n",
        "df_text[\"query_and_img\"] = df_text[\"query\"].astype(str) + \" \" + df_text[\"image descriptions\"].astype(str)\n",
        "df_text[\"query\"] = df_text[\"query_and_img\"]\n",
        "df_text = df_text.drop(columns=[\"image descriptions\", \"query_and_img\"])\n",
        "df_text.head(2)"
      ]
    },
    {
      "cell_type": "markdown",
      "metadata": {
        "id": "e421066e"
      },
      "source": [
        "### B. Normalize text data\n",
        "#### Summary:\n",
        "- ***Stratified Split***\n",
        "    - Split data into train/test/val using 60/15/15\n",
        "    - Trainset is 60 to allow test and val to contain atleast 2 of each target labels\n",
        "- ***Text Cleaning***\n",
        "    - Alphabet only. All lowercase.\n",
        "    - Lemmatization\n",
        "    - Removed stopwords\n",
        "    - NOTE: `cleanAndLemmatizeInput()` has option to do minimal cleaning for Transformer models(No lemmatization or stopword removal)."
      ]
    },
    {
      "cell_type": "code",
      "source": [
        "df_text['Toxic Category'].value_counts()"
      ],
      "metadata": {
        "colab": {
          "base_uri": "https://localhost:8080/",
          "height": 398
        },
        "id": "TlobrmSJ4wmU",
        "outputId": "5cf3415e-abfc-49d3-dce4-b1cd5c8b3980"
      },
      "execution_count": null,
      "outputs": [
        {
          "output_type": "execute_result",
          "data": {
            "text/plain": [
              "Toxic Category\n",
              "Safe                         881\n",
              "Violent Crimes               693\n",
              "Non-Violent Crimes           207\n",
              "unsafe                       143\n",
              "Unknown S-Type                86\n",
              "Suicide & Self-Harm            5\n",
              "Elections                      4\n",
              "Sex-Related Crimes             4\n",
              "Child Sexual Exploitation      4\n",
              "Name: count, dtype: int64"
            ],
            "text/html": [
              "<div>\n",
              "<style scoped>\n",
              "    .dataframe tbody tr th:only-of-type {\n",
              "        vertical-align: middle;\n",
              "    }\n",
              "\n",
              "    .dataframe tbody tr th {\n",
              "        vertical-align: top;\n",
              "    }\n",
              "\n",
              "    .dataframe thead th {\n",
              "        text-align: right;\n",
              "    }\n",
              "</style>\n",
              "<table border=\"1\" class=\"dataframe\">\n",
              "  <thead>\n",
              "    <tr style=\"text-align: right;\">\n",
              "      <th></th>\n",
              "      <th>count</th>\n",
              "    </tr>\n",
              "    <tr>\n",
              "      <th>Toxic Category</th>\n",
              "      <th></th>\n",
              "    </tr>\n",
              "  </thead>\n",
              "  <tbody>\n",
              "    <tr>\n",
              "      <th>Safe</th>\n",
              "      <td>881</td>\n",
              "    </tr>\n",
              "    <tr>\n",
              "      <th>Violent Crimes</th>\n",
              "      <td>693</td>\n",
              "    </tr>\n",
              "    <tr>\n",
              "      <th>Non-Violent Crimes</th>\n",
              "      <td>207</td>\n",
              "    </tr>\n",
              "    <tr>\n",
              "      <th>unsafe</th>\n",
              "      <td>143</td>\n",
              "    </tr>\n",
              "    <tr>\n",
              "      <th>Unknown S-Type</th>\n",
              "      <td>86</td>\n",
              "    </tr>\n",
              "    <tr>\n",
              "      <th>Suicide &amp; Self-Harm</th>\n",
              "      <td>5</td>\n",
              "    </tr>\n",
              "    <tr>\n",
              "      <th>Elections</th>\n",
              "      <td>4</td>\n",
              "    </tr>\n",
              "    <tr>\n",
              "      <th>Sex-Related Crimes</th>\n",
              "      <td>4</td>\n",
              "    </tr>\n",
              "    <tr>\n",
              "      <th>Child Sexual Exploitation</th>\n",
              "      <td>4</td>\n",
              "    </tr>\n",
              "  </tbody>\n",
              "</table>\n",
              "</div><br><label><b>dtype:</b> int64</label>"
            ]
          },
          "metadata": {},
          "execution_count": 12
        }
      ]
    },
    {
      "cell_type": "code",
      "execution_count": null,
      "metadata": {
        "id": "4904c0dd"
      },
      "outputs": [],
      "source": [
        "from sklearn.model_selection import train_test_split\n",
        "\n",
        "X = df_text.loc[:,\"query\"]\n",
        "y = df_text[\"Toxic Category\"]\n",
        "\n",
        "X_train, X_temp, y_train, y_temp = train_test_split(X,y,train_size=0.6,stratify=y, random_state=23)\n",
        "\n",
        "X_val, X_test, y_val, y_test = train_test_split(X_temp,y_temp,test_size=0.5,stratify=y_temp, random_state=23)\n",
        "\n",
        "X_train = pd.DataFrame(X_train)\n",
        "X_val = pd.DataFrame(X_val)\n",
        "X_test = pd.DataFrame(X_test)"
      ]
    },
    {
      "cell_type": "code",
      "execution_count": null,
      "metadata": {
        "id": "43a77866"
      },
      "outputs": [],
      "source": [
        "import re\n",
        "from nltk.stem import WordNetLemmatizer\n",
        "from nltk.corpus import stopwords\n",
        "\n",
        "def cleanAndLemmatizeInputs(X, stopWordsRemoval = True, minimalCleaning = False):\n",
        "    pattern = r\"[^a-zA-Z]\" #Keep characters, apostrophes, and whitespace\n",
        "    cleaned_queries = []\n",
        "    for sentence in X[\"query\"]:\n",
        "        sentence = re.sub(pattern, \" \", sentence)\n",
        "        sentence = sentence.lower()\n",
        "        cleaned_queries.append(sentence)\n",
        "\n",
        "    X[\"query\"] = cleaned_queries\n",
        "    if(minimalCleaning):\n",
        "        return\n",
        "\n",
        "    wordNet = WordNetLemmatizer()\n",
        "\n",
        "    # Tokenize each sentence in the dataframe\n",
        "    tokenized_lemmatized_words = []\n",
        "    for query in X[\"query\"]:\n",
        "        words_in_query = nltk.word_tokenize(query)\n",
        "        if stopWordsRemoval:\n",
        "            l = [wordNet.lemmatize(x) for x in words_in_query if x not in set(stopwords.words('english'))]\n",
        "        else:\n",
        "            l = [wordNet.lemmatize(x) for x in words_in_query]\n",
        "        tokenized_lemmatized_words.append(l)\n",
        "    len(tokenized_lemmatized_words)\n",
        "\n",
        "    X[\"query\"]  = tokenized_lemmatized_words\n",
        "    X[\"query\"] = X[\"query\"].apply(lambda words: \" \".join(words))"
      ]
    },
    {
      "cell_type": "code",
      "execution_count": null,
      "metadata": {
        "id": "6a15ea11"
      },
      "outputs": [],
      "source": [
        "cleanAndLemmatizeInputs(X_train)\n",
        "cleanAndLemmatizeInputs(X_val)\n",
        "cleanAndLemmatizeInputs(X_test)"
      ]
    },
    {
      "cell_type": "markdown",
      "metadata": {
        "id": "ebd32dd3"
      },
      "source": [
        "### C. Encode Multi-Class Labels\n",
        "#### Summary:\n",
        "- There is no real relationship between targets. Label Encoding would indicate to model a relationship between target values. So One Hot Encoding should be used.\n",
        "    - Eg: Safe = 0 , Violent Crimes = 1, Sex-Related Crimes = 3. Label Encoding would cause model to think 0 and 1 are more closely related when in reality 1 and 3 are more related."
      ]
    },
    {
      "cell_type": "code",
      "execution_count": null,
      "metadata": {
        "id": "d80dabee"
      },
      "outputs": [],
      "source": [
        "import tensorflow as tf"
      ]
    },
    {
      "cell_type": "code",
      "execution_count": null,
      "metadata": {
        "id": "c45b49aa",
        "colab": {
          "base_uri": "https://localhost:8080/"
        },
        "outputId": "e300b6fc-b54b-4b5d-938f-04032548a570"
      },
      "outputs": [
        {
          "output_type": "stream",
          "name": "stdout",
          "text": [
            "(1216, 9)\n",
            "(405, 9)\n",
            "(406, 9)\n"
          ]
        }
      ],
      "source": [
        "from sklearn.preprocessing import LabelEncoder\n",
        "from keras.api.utils import to_categorical\n",
        "from keras.api.layers import TextVectorization\n",
        "def oneHotEncodingTarget(y, X_index):\n",
        "    le = LabelEncoder()\n",
        "    toxic_cat_labelled = le.fit_transform(y)\n",
        "    one_hot = to_categorical(toxic_cat_labelled)\n",
        "    class_names = le.classes_\n",
        "\n",
        "    # Create a DataFrame\n",
        "    one_hot_df = pd.DataFrame(one_hot, columns=[f\"{label}\" for label in class_names], index = X_index)\n",
        "    print(one_hot_df.shape)\n",
        "    return one_hot_df\n",
        "\n",
        "one_hot_y_train = oneHotEncodingTarget(y_train, X_train.index)\n",
        "one_hot_y_val = oneHotEncodingTarget(y_val, X_val.index)\n",
        "one_hot_y_test = oneHotEncodingTarget(y_test, X_test.index)"
      ]
    },
    {
      "cell_type": "code",
      "execution_count": null,
      "metadata": {
        "id": "3caa2c19"
      },
      "outputs": [],
      "source": [
        "vectorizer = TextVectorization(max_tokens=5000,\n",
        "                               output_mode = 'int',\n",
        "                               output_sequence_length = 100)\n",
        "\n",
        "vectorizer.adapt(X_train.values)\n",
        "\n",
        "vectorized_X_train = vectorizer(X_train)\n",
        "vectorized_X_val = vectorizer(X_val)\n",
        "vectorized_X_test = vectorizer(X_test)\n"
      ]
    },
    {
      "cell_type": "markdown",
      "metadata": {
        "id": "a3ac207c"
      },
      "source": [
        "# 2. Deep Learning Baseline\n",
        "<hr>"
      ]
    },
    {
      "cell_type": "markdown",
      "metadata": {
        "id": "2ef849cb"
      },
      "source": [
        "## Designing an LSTM Classifier\n",
        "#### Results:\n",
        "- Accuracy:\n",
        "    - Training: 98.6%\n",
        "    -  Validation: 94.57%\n",
        "    - Test: 94.51"
      ]
    },
    {
      "cell_type": "code",
      "execution_count": null,
      "metadata": {
        "id": "sGvmfeffwMeB"
      },
      "outputs": [],
      "source": [
        "from keras.api.models import Sequential\n",
        "from keras.api.layers import LSTM"
      ]
    },
    {
      "cell_type": "code",
      "execution_count": null,
      "metadata": {
        "id": "90aiRtJBumpp",
        "colab": {
          "base_uri": "https://localhost:8080/",
          "height": 919
        },
        "outputId": "690d3bc8-ba36-4171-fed3-af63961530d6"
      },
      "outputs": [
        {
          "output_type": "stream",
          "name": "stdout",
          "text": [
            "Epoch 1/20\n",
            "\u001b[1m38/38\u001b[0m \u001b[32m━━━━━━━━━━━━━━━━━━━━\u001b[0m\u001b[37m\u001b[0m \u001b[1m18s\u001b[0m 233ms/step - accuracy: 0.3596 - loss: 1.9516 - val_accuracy: 0.6049 - val_loss: 1.2346\n",
            "Epoch 2/20\n",
            "\u001b[1m38/38\u001b[0m \u001b[32m━━━━━━━━━━━━━━━━━━━━\u001b[0m\u001b[37m\u001b[0m \u001b[1m5s\u001b[0m 130ms/step - accuracy: 0.6889 - loss: 1.0746 - val_accuracy: 0.7704 - val_loss: 0.7871\n",
            "Epoch 3/20\n",
            "\u001b[1m38/38\u001b[0m \u001b[32m━━━━━━━━━━━━━━━━━━━━\u001b[0m\u001b[37m\u001b[0m \u001b[1m7s\u001b[0m 191ms/step - accuracy: 0.7856 - loss: 0.7183 - val_accuracy: 0.8222 - val_loss: 0.6008\n",
            "Epoch 4/20\n",
            "\u001b[1m38/38\u001b[0m \u001b[32m━━━━━━━━━━━━━━━━━━━━\u001b[0m\u001b[37m\u001b[0m \u001b[1m5s\u001b[0m 131ms/step - accuracy: 0.8545 - loss: 0.5226 - val_accuracy: 0.8568 - val_loss: 0.4818\n",
            "Epoch 5/20\n",
            "\u001b[1m38/38\u001b[0m \u001b[32m━━━━━━━━━━━━━━━━━━━━\u001b[0m\u001b[37m\u001b[0m \u001b[1m4s\u001b[0m 95ms/step - accuracy: 0.8620 - loss: 0.4349 - val_accuracy: 0.8691 - val_loss: 0.4107\n",
            "Epoch 6/20\n",
            "\u001b[1m38/38\u001b[0m \u001b[32m━━━━━━━━━━━━━━━━━━━━\u001b[0m\u001b[37m\u001b[0m \u001b[1m5s\u001b[0m 85ms/step - accuracy: 0.9097 - loss: 0.3129 - val_accuracy: 0.8889 - val_loss: 0.3753\n",
            "Epoch 7/20\n",
            "\u001b[1m38/38\u001b[0m \u001b[32m━━━━━━━━━━━━━━━━━━━━\u001b[0m\u001b[37m\u001b[0m \u001b[1m4s\u001b[0m 64ms/step - accuracy: 0.9374 - loss: 0.2644 - val_accuracy: 0.9136 - val_loss: 0.3353\n",
            "Epoch 8/20\n",
            "\u001b[1m38/38\u001b[0m \u001b[32m━━━━━━━━━━━━━━━━━━━━\u001b[0m\u001b[37m\u001b[0m \u001b[1m2s\u001b[0m 60ms/step - accuracy: 0.9448 - loss: 0.2207 - val_accuracy: 0.9136 - val_loss: 0.3070\n",
            "Epoch 9/20\n",
            "\u001b[1m38/38\u001b[0m \u001b[32m━━━━━━━━━━━━━━━━━━━━\u001b[0m\u001b[37m\u001b[0m \u001b[1m3s\u001b[0m 72ms/step - accuracy: 0.9494 - loss: 0.1926 - val_accuracy: 0.9235 - val_loss: 0.2876\n",
            "Epoch 10/20\n",
            "\u001b[1m38/38\u001b[0m \u001b[32m━━━━━━━━━━━━━━━━━━━━\u001b[0m\u001b[37m\u001b[0m \u001b[1m4s\u001b[0m 103ms/step - accuracy: 0.9479 - loss: 0.1871 - val_accuracy: 0.9309 - val_loss: 0.2790\n",
            "Epoch 11/20\n",
            "\u001b[1m38/38\u001b[0m \u001b[32m━━━━━━━━━━━━━━━━━━━━\u001b[0m\u001b[37m\u001b[0m \u001b[1m2s\u001b[0m 63ms/step - accuracy: 0.9568 - loss: 0.1466 - val_accuracy: 0.9160 - val_loss: 0.2881\n",
            "Epoch 12/20\n",
            "\u001b[1m38/38\u001b[0m \u001b[32m━━━━━━━━━━━━━━━━━━━━\u001b[0m\u001b[37m\u001b[0m \u001b[1m2s\u001b[0m 63ms/step - accuracy: 0.9762 - loss: 0.1065 - val_accuracy: 0.9284 - val_loss: 0.2507\n",
            "Epoch 13/20\n",
            "\u001b[1m38/38\u001b[0m \u001b[32m━━━━━━━━━━━━━━━━━━━━\u001b[0m\u001b[37m\u001b[0m \u001b[1m2s\u001b[0m 60ms/step - accuracy: 0.9797 - loss: 0.0852 - val_accuracy: 0.9383 - val_loss: 0.2483\n",
            "Epoch 14/20\n",
            "\u001b[1m38/38\u001b[0m \u001b[32m━━━━━━━━━━━━━━━━━━━━\u001b[0m\u001b[37m\u001b[0m \u001b[1m3s\u001b[0m 89ms/step - accuracy: 0.9912 - loss: 0.0630 - val_accuracy: 0.9210 - val_loss: 0.2630\n",
            "Epoch 15/20\n",
            "\u001b[1m38/38\u001b[0m \u001b[32m━━━━━━━━━━━━━━━━━━━━\u001b[0m\u001b[37m\u001b[0m \u001b[1m4s\u001b[0m 96ms/step - accuracy: 0.9910 - loss: 0.0476 - val_accuracy: 0.9210 - val_loss: 0.2667\n",
            "Epoch 16/20\n",
            "\u001b[1m38/38\u001b[0m \u001b[32m━━━━━━━━━━━━━━━━━━━━\u001b[0m\u001b[37m\u001b[0m \u001b[1m2s\u001b[0m 63ms/step - accuracy: 0.9906 - loss: 0.0477 - val_accuracy: 0.9333 - val_loss: 0.2487\n",
            "Epoch 17/20\n",
            "\u001b[1m38/38\u001b[0m \u001b[32m━━━━━━━━━━━━━━━━━━━━\u001b[0m\u001b[37m\u001b[0m \u001b[1m3s\u001b[0m 62ms/step - accuracy: 0.9930 - loss: 0.0350 - val_accuracy: 0.9062 - val_loss: 0.3116\n"
          ]
        },
        {
          "output_type": "display_data",
          "data": {
            "text/plain": [
              "\u001b[1mModel: \"sequential\"\u001b[0m\n"
            ],
            "text/html": [
              "<pre style=\"white-space:pre;overflow-x:auto;line-height:normal;font-family:Menlo,'DejaVu Sans Mono',consolas,'Courier New',monospace\"><span style=\"font-weight: bold\">Model: \"sequential\"</span>\n",
              "</pre>\n"
            ]
          },
          "metadata": {}
        },
        {
          "output_type": "display_data",
          "data": {
            "text/plain": [
              "┏━━━━━━━━━━━━━━━━━━━━━━━━━━━━━━━━━┳━━━━━━━━━━━━━━━━━━━━━━━━┳━━━━━━━━━━━━━━━┓\n",
              "┃\u001b[1m \u001b[0m\u001b[1mLayer (type)                   \u001b[0m\u001b[1m \u001b[0m┃\u001b[1m \u001b[0m\u001b[1mOutput Shape          \u001b[0m\u001b[1m \u001b[0m┃\u001b[1m \u001b[0m\u001b[1m      Param #\u001b[0m\u001b[1m \u001b[0m┃\n",
              "┡━━━━━━━━━━━━━━━━━━━━━━━━━━━━━━━━━╇━━━━━━━━━━━━━━━━━━━━━━━━╇━━━━━━━━━━━━━━━┩\n",
              "│ embedding (\u001b[38;5;33mEmbedding\u001b[0m)           │ (\u001b[38;5;34m32\u001b[0m, \u001b[38;5;34m100\u001b[0m, \u001b[38;5;34m32\u001b[0m)          │       \u001b[38;5;34m160,032\u001b[0m │\n",
              "├─────────────────────────────────┼────────────────────────┼───────────────┤\n",
              "│ bidirectional (\u001b[38;5;33mBidirectional\u001b[0m)   │ (\u001b[38;5;34m32\u001b[0m, \u001b[38;5;34m64\u001b[0m)               │        \u001b[38;5;34m16,640\u001b[0m │\n",
              "├─────────────────────────────────┼────────────────────────┼───────────────┤\n",
              "│ dense (\u001b[38;5;33mDense\u001b[0m)                   │ (\u001b[38;5;34m32\u001b[0m, \u001b[38;5;34m128\u001b[0m)              │         \u001b[38;5;34m8,320\u001b[0m │\n",
              "├─────────────────────────────────┼────────────────────────┼───────────────┤\n",
              "│ dropout (\u001b[38;5;33mDropout\u001b[0m)               │ (\u001b[38;5;34m32\u001b[0m, \u001b[38;5;34m128\u001b[0m)              │             \u001b[38;5;34m0\u001b[0m │\n",
              "├─────────────────────────────────┼────────────────────────┼───────────────┤\n",
              "│ dense_1 (\u001b[38;5;33mDense\u001b[0m)                 │ (\u001b[38;5;34m32\u001b[0m, \u001b[38;5;34m9\u001b[0m)                │         \u001b[38;5;34m1,161\u001b[0m │\n",
              "└─────────────────────────────────┴────────────────────────┴───────────────┘\n"
            ],
            "text/html": [
              "<pre style=\"white-space:pre;overflow-x:auto;line-height:normal;font-family:Menlo,'DejaVu Sans Mono',consolas,'Courier New',monospace\">┏━━━━━━━━━━━━━━━━━━━━━━━━━━━━━━━━━┳━━━━━━━━━━━━━━━━━━━━━━━━┳━━━━━━━━━━━━━━━┓\n",
              "┃<span style=\"font-weight: bold\"> Layer (type)                    </span>┃<span style=\"font-weight: bold\"> Output Shape           </span>┃<span style=\"font-weight: bold\">       Param # </span>┃\n",
              "┡━━━━━━━━━━━━━━━━━━━━━━━━━━━━━━━━━╇━━━━━━━━━━━━━━━━━━━━━━━━╇━━━━━━━━━━━━━━━┩\n",
              "│ embedding (<span style=\"color: #0087ff; text-decoration-color: #0087ff\">Embedding</span>)           │ (<span style=\"color: #00af00; text-decoration-color: #00af00\">32</span>, <span style=\"color: #00af00; text-decoration-color: #00af00\">100</span>, <span style=\"color: #00af00; text-decoration-color: #00af00\">32</span>)          │       <span style=\"color: #00af00; text-decoration-color: #00af00\">160,032</span> │\n",
              "├─────────────────────────────────┼────────────────────────┼───────────────┤\n",
              "│ bidirectional (<span style=\"color: #0087ff; text-decoration-color: #0087ff\">Bidirectional</span>)   │ (<span style=\"color: #00af00; text-decoration-color: #00af00\">32</span>, <span style=\"color: #00af00; text-decoration-color: #00af00\">64</span>)               │        <span style=\"color: #00af00; text-decoration-color: #00af00\">16,640</span> │\n",
              "├─────────────────────────────────┼────────────────────────┼───────────────┤\n",
              "│ dense (<span style=\"color: #0087ff; text-decoration-color: #0087ff\">Dense</span>)                   │ (<span style=\"color: #00af00; text-decoration-color: #00af00\">32</span>, <span style=\"color: #00af00; text-decoration-color: #00af00\">128</span>)              │         <span style=\"color: #00af00; text-decoration-color: #00af00\">8,320</span> │\n",
              "├─────────────────────────────────┼────────────────────────┼───────────────┤\n",
              "│ dropout (<span style=\"color: #0087ff; text-decoration-color: #0087ff\">Dropout</span>)               │ (<span style=\"color: #00af00; text-decoration-color: #00af00\">32</span>, <span style=\"color: #00af00; text-decoration-color: #00af00\">128</span>)              │             <span style=\"color: #00af00; text-decoration-color: #00af00\">0</span> │\n",
              "├─────────────────────────────────┼────────────────────────┼───────────────┤\n",
              "│ dense_1 (<span style=\"color: #0087ff; text-decoration-color: #0087ff\">Dense</span>)                 │ (<span style=\"color: #00af00; text-decoration-color: #00af00\">32</span>, <span style=\"color: #00af00; text-decoration-color: #00af00\">9</span>)                │         <span style=\"color: #00af00; text-decoration-color: #00af00\">1,161</span> │\n",
              "└─────────────────────────────────┴────────────────────────┴───────────────┘\n",
              "</pre>\n"
            ]
          },
          "metadata": {}
        },
        {
          "output_type": "display_data",
          "data": {
            "text/plain": [
              "\u001b[1m Total params: \u001b[0m\u001b[38;5;34m558,461\u001b[0m (2.13 MB)\n"
            ],
            "text/html": [
              "<pre style=\"white-space:pre;overflow-x:auto;line-height:normal;font-family:Menlo,'DejaVu Sans Mono',consolas,'Courier New',monospace\"><span style=\"font-weight: bold\"> Total params: </span><span style=\"color: #00af00; text-decoration-color: #00af00\">558,461</span> (2.13 MB)\n",
              "</pre>\n"
            ]
          },
          "metadata": {}
        },
        {
          "output_type": "display_data",
          "data": {
            "text/plain": [
              "\u001b[1m Trainable params: \u001b[0m\u001b[38;5;34m186,153\u001b[0m (727.16 KB)\n"
            ],
            "text/html": [
              "<pre style=\"white-space:pre;overflow-x:auto;line-height:normal;font-family:Menlo,'DejaVu Sans Mono',consolas,'Courier New',monospace\"><span style=\"font-weight: bold\"> Trainable params: </span><span style=\"color: #00af00; text-decoration-color: #00af00\">186,153</span> (727.16 KB)\n",
              "</pre>\n"
            ]
          },
          "metadata": {}
        },
        {
          "output_type": "display_data",
          "data": {
            "text/plain": [
              "\u001b[1m Non-trainable params: \u001b[0m\u001b[38;5;34m0\u001b[0m (0.00 B)\n"
            ],
            "text/html": [
              "<pre style=\"white-space:pre;overflow-x:auto;line-height:normal;font-family:Menlo,'DejaVu Sans Mono',consolas,'Courier New',monospace\"><span style=\"font-weight: bold\"> Non-trainable params: </span><span style=\"color: #00af00; text-decoration-color: #00af00\">0</span> (0.00 B)\n",
              "</pre>\n"
            ]
          },
          "metadata": {}
        },
        {
          "output_type": "display_data",
          "data": {
            "text/plain": [
              "\u001b[1m Optimizer params: \u001b[0m\u001b[38;5;34m372,308\u001b[0m (1.42 MB)\n"
            ],
            "text/html": [
              "<pre style=\"white-space:pre;overflow-x:auto;line-height:normal;font-family:Menlo,'DejaVu Sans Mono',consolas,'Courier New',monospace\"><span style=\"font-weight: bold\"> Optimizer params: </span><span style=\"color: #00af00; text-decoration-color: #00af00\">372,308</span> (1.42 MB)\n",
              "</pre>\n"
            ]
          },
          "metadata": {}
        }
      ],
      "source": [
        "lstm_model = Sequential([\n",
        "    tf.keras.layers.Embedding(5000 + 1, 32),\n",
        "    tf.keras.layers.Bidirectional(LSTM(32, activation='tanh')),\n",
        "    #tf.keras.layers.Dense(128, activation = 'relu'),\n",
        "    #tf.keras.layers.Dense(256, activation = 'relu'), # TOO MANY LAYERS\n",
        "    tf.keras.layers.Dense(128, activation = 'relu'),\n",
        "    tf.keras.layers.Dropout(0.3),\n",
        "    tf.keras.layers.Dense(9, activation = 'softmax'),\n",
        "])\n",
        "\n",
        "early_stop = tf.keras.callbacks.EarlyStopping(\n",
        "    monitor='val_loss',\n",
        "    patience=4,\n",
        "    restore_best_weights=True\n",
        ")\n",
        "\n",
        "lstm_model.compile(loss = 'categorical_crossentropy', optimizer='Adam', metrics=['accuracy'])\n",
        "history = lstm_model.fit(x = vectorized_X_train, y = one_hot_y_train, epochs=20,\n",
        "                    validation_data = (vectorized_X_val, one_hot_y_val),\n",
        "                    callbacks = [early_stop])\n",
        "lstm_model.summary()"
      ]
    },
    {
      "cell_type": "code",
      "execution_count": null,
      "metadata": {
        "id": "OrpwwWnjxTAv",
        "colab": {
          "base_uri": "https://localhost:8080/",
          "height": 472
        },
        "outputId": "02d40a53-7495-4842-ff27-0e4b49451047"
      },
      "outputs": [
        {
          "output_type": "execute_result",
          "data": {
            "text/plain": [
              "<Axes: xlabel='Epoch'>"
            ]
          },
          "metadata": {},
          "execution_count": 31
        },
        {
          "output_type": "display_data",
          "data": {
            "text/plain": [
              "<Figure size 640x480 with 1 Axes>"
            ],
            "image/png": "[encoded data removed]"
          },
          "metadata": {}
        }
      ],
      "source": [
        "pd.DataFrame(history.history).plot(xlim=[0, 10], ylim=[0, 2], grid=True, xlabel=\"Epoch\",\n",
        "style=[\"g--\", \"r--.\", \"b-\", \"b-*\"])"
      ]
    },
    {
      "cell_type": "code",
      "execution_count": null,
      "metadata": {
        "id": "sQTDJfgglvUN",
        "colab": {
          "base_uri": "https://localhost:8080/"
        },
        "outputId": "098b612a-3d62-474b-96a0-719121507826"
      },
      "outputs": [
        {
          "output_type": "stream",
          "name": "stdout",
          "text": [
            "\u001b[1m13/13\u001b[0m \u001b[32m━━━━━━━━━━━━━━━━━━━━\u001b[0m\u001b[37m\u001b[0m \u001b[1m0s\u001b[0m 18ms/step - accuracy: 0.9403 - loss: 0.2174\n"
          ]
        },
        {
          "output_type": "execute_result",
          "data": {
            "text/plain": [
              "[0.2681010067462921, 0.9261083602905273]"
            ]
          },
          "metadata": {},
          "execution_count": 32
        }
      ],
      "source": [
        "lstm_model.evaluate(vectorized_X_test, one_hot_y_test) # 95% Accuracy on Test Set. Almost Same as val."
      ]
    },
    {
      "cell_type": "markdown",
      "source": [
        "# 3. Fine-tuning DistilBERT using PEFT with LoRA\n",
        "<hr>"
      ],
      "metadata": {
        "id": "mLmgVjWMQS23"
      }
    },
    {
      "cell_type": "code",
      "source": [
        "# df_text[\"Toxic Category\"].value_counts()"
      ],
      "metadata": {
        "id": "9-7aOXFfXAk1"
      },
      "execution_count": null,
      "outputs": []
    },
    {
      "cell_type": "code",
      "source": [
        "# #Reassigning X_train..etc to cancel preprocessing done for LSTM.\n",
        "# from sklearn.model_selection import train_test_split\n",
        "# from datasets import Dataset\n",
        "\n",
        "# le2 = LabelEncoder()\n",
        "\n",
        "# df_new = df_text.copy()\n",
        "\n",
        "# df_new[\"label\"] = le2.fit_transform(df_new[\"Toxic Category\"])\n",
        "\n",
        "\n",
        "# train_df, temp_df = train_test_split(df_new, train_size=0.6, stratify=df_new[\"label\"], random_state=23)\n",
        "\n",
        "# eval_df, test_df = train_test_split(temp_df, test_size=0.5, stratify=temp_df[\"label\"], random_state=23)\n",
        "\n",
        "\n",
        "# train_ds = Dataset.from_pandas(train_df, preserve_index=False)\n",
        "# val_ds = Dataset.from_pandas(eval_df, preserve_index=False)\n",
        "# test_ds = Dataset.from_pandas(test_df, preserve_index = False)\n",
        "\n"
      ],
      "metadata": {
        "id": "yq3iI8CaQYGW"
      },
      "execution_count": null,
      "outputs": []
    },
    {
      "cell_type": "code",
      "source": [
        "# # Checking that both models take as input the same data\n",
        "# pd.set_option('display.max_colwidth', None)\n",
        "# print(X_val.iloc[3])\n",
        "# print(eval_df[\"query\"].iloc[3])\n",
        "# print(X_val.shape[0] == eval_df.shape[0]) # Making sure both models train on the same amount of data"
      ],
      "metadata": {
        "id": "UNjidjP9fWbs"
      },
      "execution_count": null,
      "outputs": []
    },
    {
      "cell_type": "markdown",
      "source": [
        "## Loading distilbert\n"
      ],
      "metadata": {
        "id": "6Wv3y1_vgT_y"
      }
    },
    {
      "cell_type": "code",
      "source": [
        "# from transformers import AutoModelForSequenceClassification, AutoTokenizer"
      ],
      "metadata": {
        "id": "O9d8kMVEgcDV"
      },
      "execution_count": null,
      "outputs": []
    },
    {
      "cell_type": "code",
      "source": [
        "# model_name = \"distilbert-base-uncased\"\n",
        "\n",
        "# base_model = AutoModelForSequenceClassification.from_pretrained(model_name, num_labels = 9)\n",
        "\n",
        "# tokenizer = AutoTokenizer.from_pretrained(model_name)\n",
        "\n",
        "# def tokenize_fn(ds):\n",
        "#     return tokenizer(ds[\"query\"], padding=\"max_length\", truncation=True, max_length=128)\n",
        "# tokenized_train_ds = train_ds.map(tokenize_fn, batched=True)\n",
        "# tokenized_val_ds = val_ds.map(tokenize_fn, batched=True)\n",
        "# tokenized_test_ds = test_ds.map(tokenize_fn, batched=True)\n"
      ],
      "metadata": {
        "id": "1w6P6qTuhK0K"
      },
      "execution_count": null,
      "outputs": []
    },
    {
      "cell_type": "code",
      "source": [
        "# print(base_model)"
      ],
      "metadata": {
        "id": "aCr7u-MzpDEz"
      },
      "execution_count": null,
      "outputs": []
    },
    {
      "cell_type": "code",
      "source": [
        "# from peft import LoraConfig, get_peft_model, TaskType\n",
        "\n",
        "# lora_cfg = LoraConfig(\n",
        "#     r=8,\n",
        "#     lora_alpha=16,\n",
        "#     lora_dropout = 0.05,\n",
        "#     target_modules=[\"q_lin\",\"k_lin\" \"v_lin\"],\n",
        "#     bias=\"none\",\n",
        "#     task_type=TaskType.SEQ_CLS,\n",
        "# )\n",
        "\n",
        "# model_1 = get_peft_model(base_model, lora_cfg)"
      ],
      "metadata": {
        "id": "eazipju4lNQc"
      },
      "execution_count": null,
      "outputs": []
    },
    {
      "cell_type": "code",
      "source": [
        "# from transformers import TrainingArguments, Trainer\n",
        "# training_args = TrainingArguments(\n",
        "#     output_dir=\"./lora_toxic_cls\",\n",
        "#     per_device_train_batch_size=16,\n",
        "#     num_train_epochs=5,\n",
        "#     learning_rate=2e-5,\n",
        "#     eval_strategy=\"epoch\",\n",
        "#     save_strategy=\"epoch\",                   # save checkpoint after each epoch\n",
        "#     logging_steps=50,\n",
        "\n",
        "# )"
      ],
      "metadata": {
        "id": "cIKrbVbRpCf7"
      },
      "execution_count": null,
      "outputs": []
    },
    {
      "cell_type": "code",
      "source": [
        "# from sklearn.metrics import accuracy_score, f1_score\n",
        "\n",
        "# def compute_metrics(pred):\n",
        "#     logits, labels = pred\n",
        "#     preds = np.argmax(logits, axis=-1)\n",
        "#     return {\n",
        "#         \"accuracy\": accuracy_score(labels, preds),\n",
        "#         \"f1_macro\": f1_score(labels, preds, average=\"macro\"),\n",
        "#     }"
      ],
      "metadata": {
        "id": "8AZHleOdro13"
      },
      "execution_count": null,
      "outputs": []
    },
    {
      "cell_type": "code",
      "source": [
        "# trainer = Trainer(\n",
        "#     model=model_1,\n",
        "#     args=training_args,\n",
        "#     train_dataset=tokenized_train_ds,\n",
        "#     eval_dataset=tokenized_val_ds,\n",
        "#     compute_metrics=compute_metrics,\n",
        "#     tokenizer=tokenizer,\n",
        "# )"
      ],
      "metadata": {
        "id": "OD7vFT_trCz2"
      },
      "execution_count": null,
      "outputs": []
    },
    {
      "cell_type": "code",
      "source": [
        "# trainer.train()\n",
        "# trainer.save_model(\"peft_included_klin_increased_epochs\")\n"
      ],
      "metadata": {
        "id": "mZiXJwiMrWVU"
      },
      "execution_count": null,
      "outputs": []
    }
  ]
}